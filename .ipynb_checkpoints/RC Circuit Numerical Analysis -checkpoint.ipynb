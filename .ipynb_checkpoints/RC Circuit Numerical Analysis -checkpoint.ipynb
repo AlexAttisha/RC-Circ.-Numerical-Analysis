{
 "cells": [
  {
   "cell_type": "markdown",
   "metadata": {},
   "source": [
    "**Numerical solutions to $RC$ circuits** <br>\n",
    "\n",
    "\n",
    "This was adapted from a Computer HW problem from my Physics 260 class at the University of Michigan \n",
    "\\begin{equation}\n",
    "I = \\frac {dQ} {dt}\n",
    "\\end{equation}\n",
    "\n",
    "This simple definition implies that many circuits can be expressed in the language of differential equations - equations which can be solved numerically\n",
    "\n",
    "Example:\n",
    "\\begin{equation}\n",
    "\\frac {dx} {dt} = f(x,t).\n",
    "\\end{equation}\n",
    "\n",
    "The solution to this equation is a function $x(t)$ whose first derivative is $f$.\n",
    "To find the solution to such an equation, we also need boundary conditions. If we have a first-order differential equation and know the value of $x$ at $t$, that is we know $x(t)$.  Then we can write the value of x as\n",
    "\\begin{equation}\n",
    "x(t+h) = x(t) + h \\frac {dx} {dt} + \\frac 1 2 h^2 \\frac {d^2x} {dt^2} + ...\n",
    "\\end{equation}\n",
    "\n",
    "\\begin{equation}\n",
    "x(t+h) = x(t) + h f(x,t) + h^2 \\frac {df(x,t)} {dt} + ...\n",
    "\\end{equation}\n",
    "\n",
    "If $h$ is small then $h^2$ is really small, and we can ignore it, and all higher terms of $h^n$.  This method of expansion is called Euler's method.\n",
    "\n",
    "Using this, if we know the value of $x$ at some time $t$ we can find the value at some short time later.  We can repeat this process to understand how $x$ changes over time. The set of $x$ values at a discrete set of $t$ values is the numerical solution to our differential equation.\n"
   ]
  },
  {
   "cell_type": "markdown",
   "metadata": {},
   "source": [
    "## Import libraries"
   ]
  },
  {
   "cell_type": "code",
   "execution_count": 3,
   "metadata": {},
   "outputs": [],
   "source": [
    "import numpy as np                      \n",
    "import matplotlib.pyplot as plt            "
   ]
  },
  {
   "cell_type": "markdown",
   "metadata": {
    "collapsed": true
   },
   "source": [
    "## Your assignment Due Friday Feb 14\n",
    "\n",
    "Apply these techniques to calculate the currents and voltages in circuits with a resistor, capacitor and voltage source.  The voltage and current through a resistor is given by $V=IR$, the voltage across a capacitor is given by $V=Q/C$ and the voltage from a battery is just $V$."
   ]
  },
  {
   "cell_type": "markdown",
   "metadata": {},
   "source": [
    "### Part 1 (15 points) Calculate the discharge of a capacitor through a resistor.\n",
    "The capacitor will have some initial charge $Q$ based on the initial voltage on the capacitor, $V_0=10$ V, and the capacitance, $C = 20\\times10^{-06}$ Farads.  The rate of discharge will be the current through the capacitor $\\frac {dQ} {dt}$, which will depend on the value of the resistance, $R_1=10 \\Omega$.  \n",
    "<img src=\"http://www-personal.umich.edu/~gerdes/img/MC-PythonCircuit01.png\" height=\"400\" width=\"400\">\n",
    "Setup three one-dimensional arrays, one for the time, one for the current in the circuit and one for the charge on the capacitor.  Since the current in the capacitor must be the same as the current in the resistor, we have\n",
    "\\begin{equation}\n",
    "\\frac {dQ} {dt} = I = \\frac V R\n",
    "\\end{equation}\n",
    "and\n",
    "\\begin{equation}\n",
    " V = \\frac Q C\n",
    "\\end{equation}\n",
    "\n",
    "\n",
    "Thus, we have our simple first order differential equation\n",
    "\\begin{equation}\n",
    "\\frac {dQ} {dt} = \\frac Q {RC}\n",
    "\\end{equation}\n",
    "\n",
    "Turning this into a discrete expression, we get \n",
    "\\begin{equation}\n",
    "\\Delta Q = \\frac Q {RC} \\Delta t\n",
    "\\end{equation}\n",
    "\n",
    "So, choose values for $R$, $C$ and the initial charge $Q$.  Then pick an appropriate time step $\\Delta t$.  For each time step calculate the change in charge, $\\Delta Q$, and the corresponding current through the resistor and total charge on the capacitor.  Then subtract this $\\Delta Q$ from the charge on the capacitor and repeat the process.\n",
    "\n",
    "* Plot the current through the resistor and the charge on the capacitor as a function of time. Try making your plots on both a linear and a semilogy scale to verify that the behavior is exponential.\n",
    "\n",
    "* Use your program to compute the total amount of energy dissipated in the resistor, and show that it's equal to the initial stored energy in the capacitor. \n"
   ]
  },
  {
   "cell_type": "markdown",
   "metadata": {},
   "source": [
    "### First, we define constants that set up the problem, R, C, $V_0$."
   ]
  },
  {
   "cell_type": "code",
   "execution_count": 4,
   "metadata": {},
   "outputs": [],
   "source": [
    "R = 10 #Ohms\n",
    "C = 20 * 10**-6 #Farads\n",
    "V0 = 10 #Volts"
   ]
  },
  {
   "cell_type": "markdown",
   "metadata": {},
   "source": [
    "### Next, set up constants based on above: $Q_0(C, V_0)$, $RC(R, C)$ (this is the equivalent of T in the harmonic oscillator and provides a characteristic timescale), and $U_{cap}(C, V_0)$ (the energy stored in the capacitor)."
   ]
  },
  {
   "cell_type": "code",
   "execution_count": 5,
   "metadata": {},
   "outputs": [],
   "source": [
    "#  Define constants here and calculate the energy stored in the capacitor based on other constants\n",
    "Q0 = C * V0\n",
    "RC = R * C\n",
    "Ucap = .5 * C * V0**2"
   ]
  },
  {
   "cell_type": "markdown",
   "metadata": {},
   "source": [
    "### Define your timesteps using np.arange, keeping in mind that you want small timesteps compared with the period of oscillation."
   ]
  },
  {
   "cell_type": "code",
   "execution_count": 6,
   "metadata": {},
   "outputs": [],
   "source": [
    "# Timestep definition here\n",
    "dt = RC / 100\n",
    "timestep = np.arange(0, .5*RC, dt)"
   ]
  },
  {
   "cell_type": "markdown",
   "metadata": {},
   "source": [
    "### Now, we will want $Q(t)$, $I(t)$, and $P_{R}(t)$ (power dissipated by the resistor), and as many values of each (i.e. the same shape of each) as the number of timesteps."
   ]
  },
  {
   "cell_type": "code",
   "execution_count": 7,
   "metadata": {},
   "outputs": [],
   "source": [
    "# Create arrays for charge, current, and power dissipated at each timestep: e.g. qarray, iarray, parray\n",
    "qarray = np.zeros(np.size(timestep))\n",
    "iarray = np.zeros(np.size(timestep))\n",
    "parray = np.zeros(np.size(timestep))"
   ]
  },
  {
   "cell_type": "markdown",
   "metadata": {},
   "source": [
    "### In the next cell, we iterate (loop) over timesteps to calculate the charge, current, and power dissipated by the resistor  at each timestep.\n",
    "- Before starting the loop, you'll need to set Q and I to the initial states $Q_0$ and $I_0=Q_0/RC$. The Q and I variables will change within the loop and populate the qarray and iarray, and power dissipated is $P=I^2R$ "
   ]
  },
  {
   "cell_type": "code",
   "execution_count": 8,
   "metadata": {},
   "outputs": [],
   "source": [
    "# Set initial charge and current for first timestep\n",
    "qarray [0] = Q0\n",
    "iarray [0] = Q0/RC\n",
    "parray [0] = ((iarray[0])**2)*R*dt"
   ]
  },
  {
   "cell_type": "markdown",
   "metadata": {},
   "source": [
    "- Here, you will want to loop through the timesteps keeping track of the number of iterations, inum (see example from class).  At each timestep, you'll populate the qarray, iarray, and parray at that inum, then update Q due to because of discharge in capacitor at that timestep, and update I due to the new total charge on the capacitor plate."
   ]
  },
  {
   "cell_type": "code",
   "execution_count": 9,
   "metadata": {},
   "outputs": [],
   "source": [
    "# Main loop over timesteps here\n",
    "for inum, step in enumerate(timestep):\n",
    "    if (inum > 0):\n",
    "        dq = -qarray[inum-1]/RC*dt\n",
    "        qarray[inum] = qarray[inum-1] + dq\n",
    "        iarray[inum] = -dq/dt\n",
    "        parray[inum] = ((iarray[inum])**2)*R*dt"
   ]
  },
  {
   "cell_type": "markdown",
   "metadata": {},
   "source": [
    "### Perform your quick computation of total power dissipated by the resistor.  Compare this with the energy stored in the capacitor that you calculated earlier, $U_{cap}$."
   ]
  },
  {
   "cell_type": "code",
   "execution_count": 10,
   "metadata": {},
   "outputs": [
    {
     "name": "stdout",
     "output_type": "stream",
     "text": [
      "The stored potential energy is 0.001\n",
      "The stored energy is 0.0006496841402469654\n"
     ]
    }
   ],
   "source": [
    "# Hint: You'll want to sum over power dissipated at the end of each timestep. \n",
    "#   Remember that power is energy/time \n",
    "P = np.sum(parray)\n",
    "print('The stored potential energy is', Ucap)\n",
    "print('The stored energy is', P)"
   ]
  },
  {
   "cell_type": "markdown",
   "metadata": {},
   "source": [
    "### Plot the charge on the capacitor and the current as a function of time below.  "
   ]
  },
  {
   "cell_type": "code",
   "execution_count": 11,
   "metadata": {},
   "outputs": [
    {
     "data": {
      "image/png": "[encoded data removed]",
      "text/plain": [
       "<Figure size 720x288 with 2 Axes>"
      ]
     },
     "metadata": {
      "needs_background": "light"
     },
     "output_type": "display_data"
    }
   ],
   "source": [
    "#  Plot here, try using the subplots as we did in the example.  But, this time with a 2x1 set of axes. \n",
    "fig, (ax1, ax2) = plt.subplots(1, 2, figsize=(10, 4))\n",
    "ax1.plot(timestep, qarray)\n",
    "ax1.set_title(\"Charge vs. Time\")\n",
    "ax1.set_xlabel(\"Time (s)\")\n",
    "ax1.set_ylabel(\"Charge(C)\")\n",
    "\n",
    "ax2.plot(timestep, iarray)\n",
    "ax2.set_title(\"Current vs. Time\")\n",
    "ax2.set_xlabel(\"Time (s)\")\n",
    "ax2.set_ylabel(\"Current(A)\")\n",
    "\n",
    "plt.show()"
   ]
  },
  {
   "cell_type": "markdown",
   "metadata": {},
   "source": [
    "Write your explanation here. Be sure to discuss the agreement of your solution with the analytic solution, and explain why the time step you chose is adequate. "
   ]
  },
  {
   "cell_type": "markdown",
   "metadata": {},
   "source": [
    "### Part 2 (15 points) Calculate the charge on a capacitor from a battery through a resistor.\n",
    "This is very similar to Part 1 - essentially only the boundary conditions have changed.  \n",
    "<img src=\"http://www-personal.umich.edu/~gerdes/img/MC-PythonCircuit02.png\" height=\"400\" width=\"400\">\n",
    "The capacitor will start with no charge on the plates, and it will be charged from the battery.  The inital voltage across the capacitor is then zero, and the initial current through the resistor will be $I = \\frac {V_b} {R}$ where $V_b$ is the voltage of the battery.\n",
    "\n",
    "* Write down the differential equation which includes this initial condition, and solve numerically.  Plot the current through the resistor and the charge on the capacitor as a function of time.\n",
    "\n",
    "* Compute and plot the power delivered by the battery to the circuit as a function of time. When is the battery delivering the most power to the circuit?\n",
    "\n",
    "* Compute the total energy delivered by the battery to the circuit. What fraction of this energy is stored in the capacitor, and what fraction is dissipated as heat in the resistor? Does your answer to the last question depend on the values of $R$ and $C$?\n",
    "\n",
    "Keep the loop rule in mind,\n",
    "\\begin{eqnarray}\n",
    "V - IR - Q/C = 0\n",
    "\\end{eqnarray}"
   ]
  },
  {
   "cell_type": "markdown",
   "metadata": {},
   "source": [
    "### Set your constants for the problem here: \n",
    "$R_1 = 2\\Omega$, $C_1 = 20e-06$ Farad, $V_b=5$V, $Q_0=0$."
   ]
  },
  {
   "cell_type": "code",
   "execution_count": 12,
   "metadata": {},
   "outputs": [],
   "source": [
    "# Set constants here\n",
    "R1 = 2 #ohms\n",
    "C1 = 20e-06 #Farads\n",
    "Vb = 5 #V\n",
    "Q0 = 0"
   ]
  },
  {
   "cell_type": "markdown",
   "metadata": {},
   "source": [
    "###  Set additional constants based on above here"
   ]
  },
  {
   "cell_type": "code",
   "execution_count": 13,
   "metadata": {},
   "outputs": [],
   "source": [
    "#  This would be your RC, and define timesteps here\n",
    "RC = R1*C1\n",
    "dt = RC/1000\n",
    "timestep = np.arange(0, .5*RC, dt)"
   ]
  },
  {
   "cell_type": "markdown",
   "metadata": {},
   "source": [
    "### Set up the arrays to store charge, current, power dissipated by resistor, and power dissipated by the battery here.  Note, these must have the same size as the timesteps array."
   ]
  },
  {
   "cell_type": "code",
   "execution_count": 14,
   "metadata": {},
   "outputs": [],
   "source": [
    "#  Set up arrays, e.g. qarray, iarray, prarray, pbarray\n",
    "Q1 = np.zeros(np.size(timestep))\n",
    "I1 = np.zeros(np.size(timestep))\n",
    "P1 = np.zeros(np.size(timestep))\n",
    "P2 = np.zeros(np.size(timestep))"
   ]
  },
  {
   "cell_type": "markdown",
   "metadata": {},
   "source": [
    "### Here, you will want to loop over timesteps as before, but keep in mind that you are also delivering power from the battery"
   ]
  },
  {
   "cell_type": "code",
   "execution_count": 15,
   "metadata": {},
   "outputs": [],
   "source": [
    "#  First, initialize the variables that will be updated.  Then, write main loop here\n",
    "Q1[0] = Q0\n",
    "I1[0] = Vb/R\n",
    "P1[0] = (I1[0])**2 * R * dt\n",
    "P2[0] = (I1[0])**2 * R * dt\n",
    "for i, step in enumerate(timestep):\n",
    "    if (i > 0):\n",
    "        dq = (Vb-Q1[i-1]/C) / R *dt\n",
    "        Q1[i] = Q1[i-1] + dq\n",
    "        I1[i] = dq/dt\n",
    "        P1[i] = I1[i]**2 * R * dt\n",
    "        P2[i] = Vb*I1[i]*dt"
   ]
  },
  {
   "cell_type": "markdown",
   "metadata": {},
   "source": [
    "### Calculate and compare values of total energy delivered, stored on the capacitor, dissipated by the resistor, and use this information to figure out the efficiency of the system."
   ]
  },
  {
   "cell_type": "code",
   "execution_count": 16,
   "metadata": {},
   "outputs": [
    {
     "name": "stdout",
     "output_type": "stream",
     "text": [
      "The battery's energy is  4.542593848307343e-05  Joules.\n",
      "The resistors's energy is  4.768581574979894e-05  Joules.\n",
      "The capacitor's energy is  2.2598772667255105e-06  Joules.\n",
      "Efficiency:  4.7390974259154595 %.\n"
     ]
    }
   ],
   "source": [
    "#  Your calculations here\n",
    "ER = np.sum(P1)\n",
    "EB = np.sum(P2)\n",
    "EC = EB - ER\n",
    "print(\"The battery's energy is \", ER, \" Joules.\") \n",
    "print(\"The resistors's energy is \", EB, \" Joules.\")\n",
    "print(\"The capacitor's energy is \", EC, \" Joules.\")\n",
    "print(\"Efficiency: \", EC/EB * 100, \"%.\")"
   ]
  },
  {
   "cell_type": "markdown",
   "metadata": {},
   "source": [
    "### Plot the charge on capacitor, current, and power delivered here."
   ]
  },
  {
   "cell_type": "code",
   "execution_count": 17,
   "metadata": {},
   "outputs": [
    {
     "data": {
      "image/png": "[encoded data removed]",
      "text/plain": [
       "<Figure size 2160x432 with 2 Axes>"
      ]
     },
     "metadata": {
      "needs_background": "light"
     },
     "output_type": "display_data"
    }
   ],
   "source": [
    "#  Plotting code here\n",
    "fig, (ax1, ax2) = plt.subplots(1, 2, figsize=(30, 6))\n",
    "ax1.plot(timestep, Q1)\n",
    "ax1.set_title(\"Charge vs. Time\")\n",
    "ax1.set_xlabel(\"Time (s)\")\n",
    "ax1.set_ylabel(\"Charge(C)\")\n",
    "ax2.plot(timestep, I1)\n",
    "ax2.set_title(\"Current vs. Time\")\n",
    "ax2.set_xlabel(\"Time (s)\")\n",
    "ax2.set_ylabel(\"Current(A)\")\n",
    "plt.show()"
   ]
  }
 ],
 "metadata": {
  "anaconda-cloud": {},
  "kernelspec": {
   "display_name": "Python 3",
   "language": "python",
   "name": "python3"
  },
  "language_info": {
   "codemirror_mode": {
    "name": "ipython",
    "version": 3
   },
   "file_extension": ".py",
   "mimetype": "text/x-python",
   "name": "python",
   "nbconvert_exporter": "python",
   "pygments_lexer": "ipython3",
   "version": "3.7.4"
  }
 },
 "nbformat": 4,
 "nbformat_minor": 1
}
